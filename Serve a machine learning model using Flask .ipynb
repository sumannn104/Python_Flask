{
 "cells": [
  {
   "cell_type": "markdown",
   "metadata": {},
   "source": [
    "# Use Flask to serve a machine learning model as RESTful API\n",
    "\n",
    "### Overview \n",
    "\n",
    "Most of us know how to\n",
    "\n",
    "    * Write machine learning models\n",
    "    * Train them \n",
    "    * Test them as well \n",
    "\n",
    "But how do we deploy them for production? \n",
    "\n",
    "Well in this repo I'm going to explain how to deploy machine learning models to production using [Flask](http://flask.pocoo.org/) (a micro web framework written in Python), in addition how to serve them as a RESTful API (web services). So I will be building just a simple model in order to walk you through the essential stuff ...\n",
    "\n",
    "### App architecture \n",
    "\n",
    "Let's create a Flask app to serve a simple random forest model as a RESTful API around iris built in data. The app will allow the user to request the server in order to predcit whether a given flower is Setosa, Versicolour or Virginica.\n",
    "\n",
    "![](ml.png)\n",
    "\n",
    "### Import required libraries "
   ]
  },
  {
   "cell_type": "code",
   "execution_count": 6,
   "metadata": {},
   "outputs": [],
   "source": [
    "from sklearn.datasets import load_iris\n",
    "from sklearn.ensemble import RandomForestClassifier\n",
    "from sklearn.cross_validation import train_test_split\n",
    "from sklearn.metrics import accuracy_score\n",
    "from sklearn.metrics import classification_report\n",
    "import cloudpickle as pickle \n",
    "import requests, json "
   ]
  },
  {
   "cell_type": "markdown",
   "metadata": {},
   "source": [
    "### Dataset "
   ]
  },
  {
   "cell_type": "code",
   "execution_count": 8,
   "metadata": {},
   "outputs": [
    {
     "name": "stdout",
     "output_type": "stream",
     "text": [
      "['sepal length (cm)', 'sepal width (cm)', 'petal length (cm)', 'petal width (cm)']\n",
      "['setosa' 'versicolor' 'virginica']\n",
      "[[5.1 3.5 1.4 0.2]\n",
      " [4.9 3.  1.4 0.2]\n",
      " [4.7 3.2 1.3 0.2]\n",
      " [4.6 3.1 1.5 0.2]\n",
      " [5.  3.6 1.4 0.2]]\n",
      "[0 0 0 0 0]\n",
      "Iris Plants Database\n",
      "====================\n",
      "\n",
      "Notes\n",
      "-----\n",
      "Data Set Characteristics:\n",
      "    :Number of Instances: 150 (50 in each of three classes)\n",
      "    :Number of Attributes: 4 numeric, predictive attributes and the class\n",
      "    :Attribute Information:\n",
      "        - sepal length in cm\n",
      "        - sepal width in cm\n",
      "        - petal length in cm\n",
      "        - petal width in cm\n",
      "        - class:\n",
      "                - Iris-Setosa\n",
      "                - Iris-Versicolour\n",
      "                - Iris-Virginica\n",
      "    :Summary Statistics:\n",
      "\n",
      "    ============== ==== ==== ======= ===== ====================\n",
      "                    Min  Max   Mean    SD   Class Correlation\n",
      "    ============== ==== ==== ======= ===== ====================\n",
      "    sepal length:   4.3  7.9   5.84   0.83    0.7826\n",
      "    sepal width:    2.0  4.4   3.05   0.43   -0.4194\n",
      "    petal length:   1.0  6.9   3.76   1.76    0.9490  (high!)\n",
      "    petal width:    0.1  2.5   1.20  0.76     0.9565  (high!)\n",
      "    ============== ==== ==== ======= ===== ====================\n",
      "\n",
      "    :Missing Attribute Values: None\n",
      "    :Class Distribution: 33.3% for each of 3 classes.\n",
      "    :Creator: R.A. Fisher\n",
      "    :Donor: Michael Marshall (MARSHALL%PLU@io.arc.nasa.gov)\n",
      "    :Date: July, 1988\n",
      "\n",
      "This is a copy of UCI ML iris datasets.\n",
      "http://archive.ics.uci.edu/ml/datasets/Iris\n",
      "\n",
      "The famous Iris database, first used by Sir R.A Fisher\n",
      "\n",
      "This is perhaps the best known database to be found in the\n",
      "pattern recognition literature.  Fisher's paper is a classic in the field and\n",
      "is referenced frequently to this day.  (See Duda & Hart, for example.)  The\n",
      "data set contains 3 classes of 50 instances each, where each class refers to a\n",
      "type of iris plant.  One class is linearly separable from the other 2; the\n",
      "latter are NOT linearly separable from each other.\n",
      "\n",
      "References\n",
      "----------\n",
      "   - Fisher,R.A. \"The use of multiple measurements in taxonomic problems\"\n",
      "     Annual Eugenics, 7, Part II, 179-188 (1936); also in \"Contributions to\n",
      "     Mathematical Statistics\" (John Wiley, NY, 1950).\n",
      "   - Duda,R.O., & Hart,P.E. (1973) Pattern Classification and Scene Analysis.\n",
      "     (Q327.D83) John Wiley & Sons.  ISBN 0-471-22361-1.  See page 218.\n",
      "   - Dasarathy, B.V. (1980) \"Nosing Around the Neighborhood: A New System\n",
      "     Structure and Classification Rule for Recognition in Partially Exposed\n",
      "     Environments\".  IEEE Transactions on Pattern Analysis and Machine\n",
      "     Intelligence, Vol. PAMI-2, No. 1, 67-71.\n",
      "   - Gates, G.W. (1972) \"The Reduced Nearest Neighbor Rule\".  IEEE Transactions\n",
      "     on Information Theory, May 1972, 431-433.\n",
      "   - See also: 1988 MLC Proceedings, 54-64.  Cheeseman et al\"s AUTOCLASS II\n",
      "     conceptual clustering system finds 3 classes in the data.\n",
      "   - Many, many more ...\n",
      "\n"
     ]
    }
   ],
   "source": [
    "# load iris dataset\n",
    "iris = load_iris()\n",
    "# features (predictors)\n",
    "print (iris.feature_names)\n",
    "# target \n",
    "print (iris.target_names)\n",
    "# features sample \n",
    "print (iris.data[0:5])\n",
    "# target sample\n",
    "print (iris.target[0:5])\n",
    "# full description of the iris dataset \n",
    "print (iris.DESCR)"
   ]
  },
  {
   "cell_type": "markdown",
   "metadata": {},
   "source": [
    "### Training and testing datasets "
   ]
  },
  {
   "cell_type": "code",
   "execution_count": 9,
   "metadata": {},
   "outputs": [],
   "source": [
    "# get the data \n",
    "x = iris.data\n",
    "y = iris.target\n",
    "# split the data into traiing and testing datasets \n",
    "x_train, x_test, y_train, y_test = train_test_split(x,y)"
   ]
  },
  {
   "cell_type": "markdown",
   "metadata": {},
   "source": [
    "### Building the model "
   ]
  },
  {
   "cell_type": "code",
   "execution_count": 10,
   "metadata": {},
   "outputs": [],
   "source": [
    "# A simple random forest classifier \n",
    "rfc = RandomForestClassifier(n_estimators=100,n_jobs=2)"
   ]
  },
  {
   "cell_type": "code",
   "execution_count": 11,
   "metadata": {},
   "outputs": [
    {
     "data": {
      "text/plain": [
       "RandomForestClassifier(bootstrap=True, class_weight=None, criterion='gini',\n",
       "            max_depth=None, max_features='auto', max_leaf_nodes=None,\n",
       "            min_impurity_decrease=0.0, min_impurity_split=None,\n",
       "            min_samples_leaf=1, min_samples_split=2,\n",
       "            min_weight_fraction_leaf=0.0, n_estimators=100, n_jobs=2,\n",
       "            oob_score=False, random_state=None, verbose=0,\n",
       "            warm_start=False)"
      ]
     },
     "execution_count": 11,
     "metadata": {},
     "output_type": "execute_result"
    }
   ],
   "source": [
    "# Train the model \n",
    "rfc.fit(x_train,y_train)"
   ]
  },
  {
   "cell_type": "code",
   "execution_count": 13,
   "metadata": {},
   "outputs": [
    {
     "name": "stdout",
     "output_type": "stream",
     "text": [
      "Accuracy = 0.97\n",
      "             precision    recall  f1-score   support\n",
      "\n",
      "          0       1.00      1.00      1.00        11\n",
      "          1       1.00      0.91      0.95        11\n",
      "          2       0.94      1.00      0.97        16\n",
      "\n",
      "avg / total       0.98      0.97      0.97        38\n",
      "\n"
     ]
    }
   ],
   "source": [
    "# Model accuracy and performance \n",
    "print (\"Accuracy = %0.2f\" % accuracy_score(y_test, rfc.predict(x_test)))\n",
    "print (classification_report(y_test, rfc.predict(x_test)))"
   ]
  },
  {
   "cell_type": "markdown",
   "metadata": {},
   "source": [
    "### Model serialization / marshalling \n",
    "\n",
    "Well here we are going to use **pickle** to save the trained model in the disk for later use. The reason why using this is just to avoid training the model every time we wanna use it, so we train it once, save it then open it many times. "
   ]
  },
  {
   "cell_type": "code",
   "execution_count": 42,
   "metadata": {},
   "outputs": [],
   "source": [
    "# Save the model into disk \n",
    "\n",
    "pickle.dump(rfc, open(\"rfc.pkl\",\"wb\"))\n",
    "\n",
    "     # Predict using the random forest model\n",
    "    # y = random_forest_model.predict(predict_request)"
   ]
  },
  {
   "cell_type": "code",
   "execution_count": 97,
   "metadata": {},
   "outputs": [
    {
     "name": "stdout",
     "output_type": "stream",
     "text": [
      "1\n"
     ]
    }
   ],
   "source": [
    "# Load the random forest model back \n",
    "random_forest = pickle.load(open(\"rfc.pkl\",\"rb\"))\n",
    "data = {\"sl\": 5.84, \"sw\": 3.0, \"pl\": 3.75, \"pw\": 1.1}# request.get_json(force=True)\n",
    "\n",
    "     # Convert JSON to numpy array\n",
    "predict_request = [data['sl'],data['sw'],data['pl'],data['pw']]\n",
    "predict_request = np.reshape(np.array(predict_request),(1,len(predict_request)))\n",
    "\n",
    "     # Predict using the random forest model\n",
    "y = rfc.predict(predict_request)\n",
    "\n",
    "     # Return prediction\n",
    "output = [y[0]]\n",
    "print(output[0])\n",
    "     "
   ]
  },
  {
   "cell_type": "code",
   "execution_count": 17,
   "metadata": {},
   "outputs": [
    {
     "name": "stdout",
     "output_type": "stream",
     "text": [
      "             precision    recall  f1-score   support\n",
      "\n",
      "          0       1.00      1.00      1.00        11\n",
      "          1       1.00      0.91      0.95        11\n",
      "          2       0.94      1.00      0.97        16\n",
      "\n",
      "avg / total       0.98      0.97      0.97        38\n",
      "\n"
     ]
    }
   ],
   "source": [
    "# Use it \n",
    "print (classification_report(y_test,random_forest.predict(x_test)))"
   ]
  },
  {
   "cell_type": "markdown",
   "metadata": {},
   "source": [
    "### Start Flask app\n",
    "\n",
    "First run the [Flask app](https://github.com/a-djebali/flask-machine-learning-resful/blob/master/app.py) in the terminal\n",
    "\n",
    "```python\n",
    "$python app.py\n",
    "```\n",
    "\n",
    "Once the app is running we can request it for predictions\n",
    "\n",
    "```\n",
    " * Running on http://127.0.0.1:9000/ (Press CTRL+C to quit)\n",
    " * Restarting with stat\n",
    " * Debugger is active!\n",
    " * Debugger pin code: 580-987-602\n",
    "```\n",
    "\n",
    "Let's ask the random forest model through the web service to get which class the following flower belongs to. The flower's features are:\n",
    "\n",
    "    * sepal length: 5.84\n",
    "    * sepal width: 3.0\n",
    "    * petal length: 3.75\n",
    "    * petal width: 1"
   ]
  },
  {
   "cell_type": "code",
   "execution_count": null,
   "metadata": {},
   "outputs": [],
   "source": [
    "# Request the model \n",
    "url = \"http://127.0.0.1:9000/predict_api\"\n",
    "x=input(\"Enter sl: \")\n",
    "y=input(\"Enter sw: \")\n",
    "z=input(\"Enter pl: \")\n",
    "d=input(\"Enter pw: \")\n",
    "#'sl':4.9,'sw':3.0,'pl':1.4,'pw':0.2\n",
    "data = json.dumps({'sl':x,'sw':y,'pl':z,'pw':d})\n",
    "\n",
    "r = requests.post(url,data)\n",
    "print (r.json())"
   ]
  },
  {
   "cell_type": "markdown",
   "metadata": {},
   "source": [
    "**The flower's class is Versicolour** ... Mission completed ;)"
   ]
  }
 ],
 "metadata": {
  "anaconda-cloud": {},
  "kernelspec": {
   "display_name": "Python 3",
   "language": "python",
   "name": "python3"
  },
  "language_info": {
   "codemirror_mode": {
    "name": "ipython",
    "version": 3
   },
   "file_extension": ".py",
   "mimetype": "text/x-python",
   "name": "python",
   "nbconvert_exporter": "python",
   "pygments_lexer": "ipython3",
   "version": "3.6.5"
  }
 },
 "nbformat": 4,
 "nbformat_minor": 1
}
